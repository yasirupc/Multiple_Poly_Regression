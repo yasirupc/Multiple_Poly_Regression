{
 "cells": [
  {
   "cell_type": "code",
   "execution_count": 1,
   "id": "a62582c5",
   "metadata": {},
   "outputs": [],
   "source": [
    "# welcome back to my channel \n",
    "# lets continue the work \n",
    "# if you are new to this channel please subscibe, thanks"
   ]
  },
  {
   "cell_type": "code",
   "execution_count": 2,
   "id": "79a93b3e",
   "metadata": {},
   "outputs": [],
   "source": [
    "# import library \n",
    "import numpy as np\n",
    "import pandas as pd\n",
    "import matplotlib.pyplot as plt"
   ]
  },
  {
   "cell_type": "code",
   "execution_count": 5,
   "id": "c92171d4",
   "metadata": {},
   "outputs": [
    {
     "data": {
      "text/html": [
       "<div>\n",
       "<style scoped>\n",
       "    .dataframe tbody tr th:only-of-type {\n",
       "        vertical-align: middle;\n",
       "    }\n",
       "\n",
       "    .dataframe tbody tr th {\n",
       "        vertical-align: top;\n",
       "    }\n",
       "\n",
       "    .dataframe thead th {\n",
       "        text-align: right;\n",
       "    }\n",
       "</style>\n",
       "<table border=\"1\" class=\"dataframe\">\n",
       "  <thead>\n",
       "    <tr style=\"text-align: right;\">\n",
       "      <th></th>\n",
       "      <th>Indoor</th>\n",
       "      <th>Outdoor</th>\n",
       "      <th>domestic</th>\n",
       "      <th>profit</th>\n",
       "    </tr>\n",
       "  </thead>\n",
       "  <tbody>\n",
       "    <tr>\n",
       "      <th>0</th>\n",
       "      <td>165349.2</td>\n",
       "      <td>136897.90</td>\n",
       "      <td>471784.1</td>\n",
       "      <td>192261.8</td>\n",
       "    </tr>\n",
       "    <tr>\n",
       "      <th>1</th>\n",
       "      <td>152597.7</td>\n",
       "      <td>151377.60</td>\n",
       "      <td>443898.5</td>\n",
       "      <td>191792.1</td>\n",
       "    </tr>\n",
       "    <tr>\n",
       "      <th>2</th>\n",
       "      <td>153441.5</td>\n",
       "      <td>101145.60</td>\n",
       "      <td>407934.8</td>\n",
       "      <td>191050.4</td>\n",
       "    </tr>\n",
       "    <tr>\n",
       "      <th>3</th>\n",
       "      <td>144372.4</td>\n",
       "      <td>118671.90</td>\n",
       "      <td>383199.6</td>\n",
       "      <td>182902.0</td>\n",
       "    </tr>\n",
       "    <tr>\n",
       "      <th>4</th>\n",
       "      <td>144372.4</td>\n",
       "      <td>91391.77</td>\n",
       "      <td>366168.4</td>\n",
       "      <td>166187.9</td>\n",
       "    </tr>\n",
       "  </tbody>\n",
       "</table>\n",
       "</div>"
      ],
      "text/plain": [
       "     Indoor    Outdoor  domestic    profit\n",
       "0  165349.2  136897.90  471784.1  192261.8\n",
       "1  152597.7  151377.60  443898.5  191792.1\n",
       "2  153441.5  101145.60  407934.8  191050.4\n",
       "3  144372.4  118671.90  383199.6  182902.0\n",
       "4  144372.4   91391.77  366168.4  166187.9"
      ]
     },
     "execution_count": 5,
     "metadata": {},
     "output_type": "execute_result"
    }
   ],
   "source": [
    "# import your dataset\n",
    "dataset=pd.read_csv(\"C://Users//yasir//Desktop//Python//Youtube//data.csv\")\n",
    "dataset.head()"
   ]
  },
  {
   "cell_type": "code",
   "execution_count": 9,
   "id": "bcd8127c",
   "metadata": {},
   "outputs": [],
   "source": [
    "# we need to define x and y, so let define for this above data\n",
    "X=dataset.iloc[:,:-1].values\n",
    "y=dataset.iloc[:,3].values"
   ]
  },
  {
   "cell_type": "code",
   "execution_count": 10,
   "id": "2f73436c",
   "metadata": {},
   "outputs": [],
   "source": [
    "# for spliting dataset we need to import this give library\n",
    "from sklearn.model_selection import train_test_split\n",
    "X_train,X_test,y_train, y_test=train_test_split(X,y, test_size=0.3, random_state=0)"
   ]
  },
  {
   "cell_type": "code",
   "execution_count": 11,
   "id": "e9787735",
   "metadata": {},
   "outputs": [
    {
     "data": {
      "text/plain": [
       "(array([[ 86419.7 , 153514.1 ,      0.  ],\n",
       "        [120542.5 ,  14879.  , 311613.3 ],\n",
       "        [131876.9 , 147198.9 , 127716.8 ],\n",
       "        [ 78013.11, 121597.6 , 264346.1 ],\n",
       "        [144372.4 ,  91391.77, 366168.4 ],\n",
       "        [153441.5 , 101145.6 , 407934.8 ],\n",
       "        [142107.3 ,  99814.71, 362861.4 ],\n",
       "        [ 94657.16, 145077.6 , 282574.3 ],\n",
       "        [123334.9 , 108679.2 , 304981.6 ],\n",
       "        [130298.1 , 145530.1 , 323876.7 ],\n",
       "        [ 91749.16, 114175.8 , 294919.6 ],\n",
       "        [144372.4 , 118671.9 , 383199.6 ],\n",
       "        [165349.2 , 136897.9 , 471784.1 ],\n",
       "        [114523.6 , 122616.8 , 261776.2 ],\n",
       "        [ 93863.75, 127320.4 , 249839.4 ]]),\n",
       " array([[ 76253.86, 113867.3 , 298664.5 ],\n",
       "        [101913.1 , 110594.1 , 229161.  ],\n",
       "        [119943.2 , 156547.4 , 256512.9 ],\n",
       "        [ 91992.39, 135495.1 , 252664.9 ],\n",
       "        [152597.7 , 151377.6 , 443898.5 ],\n",
       "        [ 78389.47, 153773.4 , 299737.3 ],\n",
       "        [100672.  ,  91790.61, 249744.6 ]]),\n",
       " array([122776.9, 152211.8, 156122.5, 126992.9, 166187.9, 191050.4,\n",
       "        156991.1, 125370.4, 149760. , 155752.6, 124266.9, 182902. ,\n",
       "        192261.8, 129917. , 141585.5]),\n",
       " array([118474. , 146122. , 132602.7, 134307.4, 191792.1, 111313. ,\n",
       "        144259.4]))"
      ]
     },
     "execution_count": 11,
     "metadata": {},
     "output_type": "execute_result"
    }
   ],
   "source": [
    "X_train,X_test,y_train, y_test"
   ]
  },
  {
   "cell_type": "code",
   "execution_count": 15,
   "id": "92ff43b8",
   "metadata": {},
   "outputs": [
    {
     "data": {
      "text/plain": [
       "LinearRegression()"
      ]
     },
     "execution_count": 15,
     "metadata": {},
     "output_type": "execute_result"
    }
   ],
   "source": [
    "# multiple regression \n",
    "# need to import this library , the library is same as last video \n",
    "from sklearn.linear_model import LinearRegression\n",
    "# define a fuction\n",
    "reg=LinearRegression()\n",
    "# fit the model with split dataset\n",
    "reg.fit(X_train,y_train)\n"
   ]
  },
  {
   "cell_type": "code",
   "execution_count": 16,
   "id": "29582001",
   "metadata": {},
   "outputs": [],
   "source": [
    "# now lets predict, for predict need to define a fuction to save your data\n",
    "y_prediction=reg.predict(X_test)"
   ]
  },
  {
   "cell_type": "code",
   "execution_count": 17,
   "id": "913ca69b",
   "metadata": {},
   "outputs": [
    {
     "data": {
      "text/plain": [
       "array([118319.14171253, 135514.95980811, 150325.0632808 , 129088.79253534,\n",
       "       179743.93999385, 120472.60473996, 134902.21157446])"
      ]
     },
     "execution_count": 17,
     "metadata": {},
     "output_type": "execute_result"
    }
   ],
   "source": [
    "y_prediction"
   ]
  },
  {
   "cell_type": "code",
   "execution_count": 19,
   "id": "e1d9e06f",
   "metadata": {},
   "outputs": [
    {
     "data": {
      "text/plain": [
       "array([118474. , 146122. , 132602.7, 134307.4, 191792.1, 111313. ,\n",
       "       144259.4])"
      ]
     },
     "execution_count": 19,
     "metadata": {},
     "output_type": "execute_result"
    }
   ],
   "source": [
    "y_test"
   ]
  },
  {
   "cell_type": "code",
   "execution_count": 20,
   "id": "8237b774",
   "metadata": {},
   "outputs": [],
   "source": [
    "# the x and y values are not the same ,\n",
    "# when you need to make a graph \n",
    "# its important to used the same size of data for x and y \n",
    "# so next video or near future will teach you how to do this kind of graph "
   ]
  },
  {
   "cell_type": "markdown",
   "id": "36ec34e3",
   "metadata": {},
   "source": [
    "# let start Polynomial Regression"
   ]
  },
  {
   "cell_type": "code",
   "execution_count": 22,
   "id": "041aec1b",
   "metadata": {},
   "outputs": [],
   "source": [
    "# for polynomial the library is same as above \n",
    "# lets try with another data\n",
    "data=pd.read_csv(\"C://Users//yasir//Desktop//Python//Youtube//Polynomial Regression.csv\")"
   ]
  },
  {
   "cell_type": "code",
   "execution_count": 23,
   "id": "3777d481",
   "metadata": {},
   "outputs": [
    {
     "data": {
      "text/html": [
       "<div>\n",
       "<style scoped>\n",
       "    .dataframe tbody tr th:only-of-type {\n",
       "        vertical-align: middle;\n",
       "    }\n",
       "\n",
       "    .dataframe tbody tr th {\n",
       "        vertical-align: top;\n",
       "    }\n",
       "\n",
       "    .dataframe thead th {\n",
       "        text-align: right;\n",
       "    }\n",
       "</style>\n",
       "<table border=\"1\" class=\"dataframe\">\n",
       "  <thead>\n",
       "    <tr style=\"text-align: right;\">\n",
       "      <th></th>\n",
       "      <th>level</th>\n",
       "      <th>salary</th>\n",
       "    </tr>\n",
       "  </thead>\n",
       "  <tbody>\n",
       "    <tr>\n",
       "      <th>0</th>\n",
       "      <td>1</td>\n",
       "      <td>45000</td>\n",
       "    </tr>\n",
       "    <tr>\n",
       "      <th>1</th>\n",
       "      <td>2</td>\n",
       "      <td>50000</td>\n",
       "    </tr>\n",
       "    <tr>\n",
       "      <th>2</th>\n",
       "      <td>3</td>\n",
       "      <td>60000</td>\n",
       "    </tr>\n",
       "    <tr>\n",
       "      <th>3</th>\n",
       "      <td>4</td>\n",
       "      <td>80000</td>\n",
       "    </tr>\n",
       "    <tr>\n",
       "      <th>4</th>\n",
       "      <td>5</td>\n",
       "      <td>110000</td>\n",
       "    </tr>\n",
       "    <tr>\n",
       "      <th>5</th>\n",
       "      <td>6</td>\n",
       "      <td>150000</td>\n",
       "    </tr>\n",
       "    <tr>\n",
       "      <th>6</th>\n",
       "      <td>7</td>\n",
       "      <td>200000</td>\n",
       "    </tr>\n",
       "    <tr>\n",
       "      <th>7</th>\n",
       "      <td>8</td>\n",
       "      <td>300000</td>\n",
       "    </tr>\n",
       "    <tr>\n",
       "      <th>8</th>\n",
       "      <td>9</td>\n",
       "      <td>500000</td>\n",
       "    </tr>\n",
       "    <tr>\n",
       "      <th>9</th>\n",
       "      <td>10</td>\n",
       "      <td>1000000</td>\n",
       "    </tr>\n",
       "  </tbody>\n",
       "</table>\n",
       "</div>"
      ],
      "text/plain": [
       "   level   salary\n",
       "0      1    45000\n",
       "1      2    50000\n",
       "2      3    60000\n",
       "3      4    80000\n",
       "4      5   110000\n",
       "5      6   150000\n",
       "6      7   200000\n",
       "7      8   300000\n",
       "8      9   500000\n",
       "9     10  1000000"
      ]
     },
     "execution_count": 23,
     "metadata": {},
     "output_type": "execute_result"
    }
   ],
   "source": [
    "data"
   ]
  },
  {
   "cell_type": "code",
   "execution_count": 24,
   "id": "5c7349ff",
   "metadata": {},
   "outputs": [],
   "source": [
    "# define fuction of x and y \n",
    "X=data.iloc[:,0:1].values\n",
    "y=data.iloc[:,1].values"
   ]
  },
  {
   "cell_type": "code",
   "execution_count": 25,
   "id": "c42d1323",
   "metadata": {},
   "outputs": [
    {
     "data": {
      "text/plain": [
       "LinearRegression()"
      ]
     },
     "execution_count": 25,
     "metadata": {},
     "output_type": "execute_result"
    }
   ],
   "source": [
    "# as you seen above we have less data set si we can used directly our dataset\n",
    "# without spliting to training and testing \n",
    "# lets import library for regression , \n",
    "from sklearn.linear_model import LinearRegression\n",
    "# polynomaial regression are work behief of linear regression \n",
    "lin_reg=LinearRegression()\n",
    "# we will used directly  our dataset \n",
    "lin_reg.fit(X,y)"
   ]
  },
  {
   "cell_type": "code",
   "execution_count": 31,
   "id": "acda8986",
   "metadata": {},
   "outputs": [
    {
     "data": {
      "text/plain": [
       "LinearRegression()"
      ]
     },
     "execution_count": 31,
     "metadata": {},
     "output_type": "execute_result"
    }
   ],
   "source": [
    "# imoprt the library for polynomial \n",
    "from sklearn.preprocessing import PolynomialFeatures\n",
    "# define a fuction to save our data in the fuction \n",
    "poly_reg=PolynomialFeatures(degree=2)# lets see the formula of different regression \n",
    "X_poly=poly_reg.fit_transform(X)\n",
    "poly_reg.fit(X_poly,y)\n",
    "# define these fuction for polynomial\n",
    "lin_reg_2=LinearRegression()\n",
    "lin_reg_2.fit(X_poly,y)\n",
    "\n",
    "\n"
   ]
  },
  {
   "cell_type": "code",
   "execution_count": 29,
   "id": "f9159401",
   "metadata": {},
   "outputs": [
    {
     "data": {
      "text/plain": [
       "array([[  1.,   1.,   1.],\n",
       "       [  1.,   2.,   4.],\n",
       "       [  1.,   3.,   9.],\n",
       "       [  1.,   4.,  16.],\n",
       "       [  1.,   5.,  25.],\n",
       "       [  1.,   6.,  36.],\n",
       "       [  1.,   7.,  49.],\n",
       "       [  1.,   8.,  64.],\n",
       "       [  1.,   9.,  81.],\n",
       "       [  1.,  10., 100.]])"
      ]
     },
     "execution_count": 29,
     "metadata": {},
     "output_type": "execute_result"
    }
   ],
   "source": [
    "X_poly# 1,2,3...10 this the values of x, 1, 4, 9, 16... are the square of x"
   ]
  },
  {
   "cell_type": "code",
   "execution_count": 30,
   "id": "361ce6c3",
   "metadata": {},
   "outputs": [
    {
     "data": {
      "image/png": "[encoded data removed]",
      "text/plain": [
       "<Figure size 432x288 with 1 Axes>"
      ]
     },
     "metadata": {
      "needs_background": "light"
     },
     "output_type": "display_data"
    }
   ],
   "source": [
    "# now lets display the lR\n",
    "plt.scatter(X,y,color='red')\n",
    "plt.plot(X,lin_reg.predict(X),color='blue')\n",
    "plt.title(\"Polynomial regression Salary vs Experince\",size=10)\n",
    "plt.xlabel(\"Position of Employee\")\n",
    "plt.ylabel(\"Saleries of Employee\")\n",
    "plt.show()\n",
    "X_poly"
   ]
  },
  {
   "cell_type": "code",
   "execution_count": 35,
   "id": "b0097665",
   "metadata": {},
   "outputs": [
    {
     "data": {
      "image/png": "[encoded data removed]",
      "text/plain": [
       "<Figure size 432x288 with 1 Axes>"
      ]
     },
     "metadata": {
      "needs_background": "light"
     },
     "output_type": "display_data"
    }
   ],
   "source": [
    "# now lets show the PR, but we need to define some function becuase poly Reg is work behief of LR\n",
    "plt.scatter(X,y,color='red')\n",
    "plt.plot(X,lin_reg_2.predict(poly_reg.fit_transform(X)),color='blue')\n",
    "plt.title(\"Polynomial regression Salary vs Experince\",size=10)\n",
    "plt.xlabel(\"Position of Employee\", size=8)\n",
    "plt.ylabel(\"Saleries of Employee\", size=8)\n",
    "plt.show()\n"
   ]
  },
  {
   "cell_type": "code",
   "execution_count": null,
   "id": "b44e5e69",
   "metadata": {},
   "outputs": [],
   "source": [
    "# thanks for watching the videos\n",
    "# if you have any question please leave in the comments box\n",
    "# please subscribe and share my channel with your friend\n",
    "# to learn more about the data sciences using python \n",
    "# thanks again for your support , see you in the next video bye bye"
   ]
  }
 ],
 "metadata": {
  "kernelspec": {
   "display_name": "Python 3",
   "language": "python",
   "name": "python3"
  },
  "language_info": {
   "codemirror_mode": {
    "name": "ipython",
    "version": 3
   },
   "file_extension": ".py",
   "mimetype": "text/x-python",
   "name": "python",
   "nbconvert_exporter": "python",
   "pygments_lexer": "ipython3",
   "version": "3.8.8"
  }
 },
 "nbformat": 4,
 "nbformat_minor": 5
}
